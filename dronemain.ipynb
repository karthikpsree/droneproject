{
 "cells": [
  {
   "cell_type": "code",
   "execution_count": 2,
   "metadata": {},
   "outputs": [
    {
     "name": "stdout",
     "output_type": "stream",
     "text": [
      "Requirement already satisfied: matplotlib>=3.2.2 in c:\\users\\karth\\appdata\\local\\packages\\pythonsoftwarefoundation.python.3.10_qbz5n2kfra8p0\\localcache\\local-packages\\python310\\site-packages (from -r requirements.txt (line 4)) (3.6.0)\n",
      "Requirement already satisfied: numpy<1.24.0,>=1.18.5 in c:\\users\\karth\\appdata\\local\\packages\\pythonsoftwarefoundation.python.3.10_qbz5n2kfra8p0\\localcache\\local-packages\\python310\\site-packages (from -r requirements.txt (line 5)) (1.23.4)\n",
      "Requirement already satisfied: opencv-python>=4.1.1 in c:\\users\\karth\\appdata\\local\\packages\\pythonsoftwarefoundation.python.3.10_qbz5n2kfra8p0\\localcache\\local-packages\\python310\\site-packages (from -r requirements.txt (line 6)) (4.7.0.72)\n",
      "Requirement already satisfied: Pillow>=7.1.2 in c:\\users\\karth\\appdata\\local\\packages\\pythonsoftwarefoundation.python.3.10_qbz5n2kfra8p0\\localcache\\local-packages\\python310\\site-packages (from -r requirements.txt (line 7)) (9.3.0)\n",
      "Requirement already satisfied: PyYAML>=5.3.1 in c:\\users\\karth\\appdata\\local\\packages\\pythonsoftwarefoundation.python.3.10_qbz5n2kfra8p0\\localcache\\local-packages\\python310\\site-packages (from -r requirements.txt (line 8)) (6.0)\n",
      "Requirement already satisfied: requests>=2.23.0 in c:\\users\\karth\\appdata\\local\\packages\\pythonsoftwarefoundation.python.3.10_qbz5n2kfra8p0\\localcache\\local-packages\\python310\\site-packages (from -r requirements.txt (line 9)) (2.30.0)\n",
      "Requirement already satisfied: scipy>=1.4.1 in c:\\users\\karth\\appdata\\local\\packages\\pythonsoftwarefoundation.python.3.10_qbz5n2kfra8p0\\localcache\\local-packages\\python310\\site-packages (from -r requirements.txt (line 10)) (1.9.3)\n",
      "Requirement already satisfied: torch!=1.12.0,>=1.7.0 in c:\\users\\karth\\appdata\\local\\packages\\pythonsoftwarefoundation.python.3.10_qbz5n2kfra8p0\\localcache\\local-packages\\python310\\site-packages (from -r requirements.txt (line 11)) (2.0.1)\n",
      "Requirement already satisfied: torchvision!=0.13.0,>=0.8.1 in c:\\users\\karth\\appdata\\local\\packages\\pythonsoftwarefoundation.python.3.10_qbz5n2kfra8p0\\localcache\\local-packages\\python310\\site-packages (from -r requirements.txt (line 12)) (0.15.2)\n",
      "Requirement already satisfied: tqdm>=4.41.0 in c:\\users\\karth\\appdata\\local\\packages\\pythonsoftwarefoundation.python.3.10_qbz5n2kfra8p0\\localcache\\local-packages\\python310\\site-packages (from -r requirements.txt (line 13)) (4.65.0)\n",
      "Requirement already satisfied: protobuf<4.21.3 in c:\\users\\karth\\appdata\\local\\packages\\pythonsoftwarefoundation.python.3.10_qbz5n2kfra8p0\\localcache\\local-packages\\python310\\site-packages (from -r requirements.txt (line 14)) (4.21.2)\n",
      "Requirement already satisfied: tensorboard>=2.4.1 in c:\\users\\karth\\appdata\\local\\packages\\pythonsoftwarefoundation.python.3.10_qbz5n2kfra8p0\\localcache\\local-packages\\python310\\site-packages (from -r requirements.txt (line 17)) (2.13.0)\n",
      "Requirement already satisfied: pandas>=1.1.4 in c:\\users\\karth\\appdata\\local\\packages\\pythonsoftwarefoundation.python.3.10_qbz5n2kfra8p0\\localcache\\local-packages\\python310\\site-packages (from -r requirements.txt (line 21)) (1.5.1)\n",
      "Requirement already satisfied: seaborn>=0.11.0 in c:\\users\\karth\\appdata\\local\\packages\\pythonsoftwarefoundation.python.3.10_qbz5n2kfra8p0\\localcache\\local-packages\\python310\\site-packages (from -r requirements.txt (line 22)) (0.12.2)\n",
      "Requirement already satisfied: ipython in c:\\users\\karth\\appdata\\local\\packages\\pythonsoftwarefoundation.python.3.10_qbz5n2kfra8p0\\localcache\\local-packages\\python310\\site-packages (from -r requirements.txt (line 34)) (8.6.0)\n",
      "Requirement already satisfied: psutil in c:\\users\\karth\\appdata\\local\\packages\\pythonsoftwarefoundation.python.3.10_qbz5n2kfra8p0\\localcache\\local-packages\\python310\\site-packages (from -r requirements.txt (line 35)) (5.9.3)\n",
      "Requirement already satisfied: thop in c:\\users\\karth\\appdata\\local\\packages\\pythonsoftwarefoundation.python.3.10_qbz5n2kfra8p0\\localcache\\local-packages\\python310\\site-packages (from -r requirements.txt (line 36)) (0.1.1.post2209072238)\n",
      "Requirement already satisfied: filterpy in c:\\users\\karth\\appdata\\local\\packages\\pythonsoftwarefoundation.python.3.10_qbz5n2kfra8p0\\localcache\\local-packages\\python310\\site-packages (from -r requirements.txt (line 42)) (1.4.5)\n",
      "Requirement already satisfied: scikit-image in c:\\users\\karth\\appdata\\local\\packages\\pythonsoftwarefoundation.python.3.10_qbz5n2kfra8p0\\localcache\\local-packages\\python310\\site-packages (from -r requirements.txt (line 43)) (0.21.0)\n",
      "Requirement already satisfied: contourpy>=1.0.1 in c:\\users\\karth\\appdata\\local\\packages\\pythonsoftwarefoundation.python.3.10_qbz5n2kfra8p0\\localcache\\local-packages\\python310\\site-packages (from matplotlib>=3.2.2->-r requirements.txt (line 4)) (1.0.6)\n",
      "Requirement already satisfied: fonttools>=4.22.0 in c:\\users\\karth\\appdata\\local\\packages\\pythonsoftwarefoundation.python.3.10_qbz5n2kfra8p0\\localcache\\local-packages\\python310\\site-packages (from matplotlib>=3.2.2->-r requirements.txt (line 4)) (4.38.0)\n",
      "Requirement already satisfied: pyparsing>=2.2.1 in c:\\users\\karth\\appdata\\local\\packages\\pythonsoftwarefoundation.python.3.10_qbz5n2kfra8p0\\localcache\\local-packages\\python310\\site-packages (from matplotlib>=3.2.2->-r requirements.txt (line 4)) (3.0.9)\n",
      "Requirement already satisfied: cycler>=0.10 in c:\\users\\karth\\appdata\\local\\packages\\pythonsoftwarefoundation.python.3.10_qbz5n2kfra8p0\\localcache\\local-packages\\python310\\site-packages (from matplotlib>=3.2.2->-r requirements.txt (line 4)) (0.11.0)\n",
      "Requirement already satisfied: python-dateutil>=2.7 in c:\\users\\karth\\appdata\\local\\packages\\pythonsoftwarefoundation.python.3.10_qbz5n2kfra8p0\\localcache\\local-packages\\python310\\site-packages (from matplotlib>=3.2.2->-r requirements.txt (line 4)) (2.8.2)\n",
      "Requirement already satisfied: packaging>=20.0 in c:\\users\\karth\\appdata\\local\\packages\\pythonsoftwarefoundation.python.3.10_qbz5n2kfra8p0\\localcache\\local-packages\\python310\\site-packages (from matplotlib>=3.2.2->-r requirements.txt (line 4)) (21.3)\n",
      "Requirement already satisfied: kiwisolver>=1.0.1 in c:\\users\\karth\\appdata\\local\\packages\\pythonsoftwarefoundation.python.3.10_qbz5n2kfra8p0\\localcache\\local-packages\\python310\\site-packages (from matplotlib>=3.2.2->-r requirements.txt (line 4)) (1.4.4)\n",
      "Requirement already satisfied: urllib3<3,>=1.21.1 in c:\\users\\karth\\appdata\\local\\packages\\pythonsoftwarefoundation.python.3.10_qbz5n2kfra8p0\\localcache\\local-packages\\python310\\site-packages (from requests>=2.23.0->-r requirements.txt (line 9)) (1.26.16)\n",
      "Requirement already satisfied: certifi>=2017.4.17 in c:\\users\\karth\\appdata\\local\\packages\\pythonsoftwarefoundation.python.3.10_qbz5n2kfra8p0\\localcache\\local-packages\\python310\\site-packages (from requests>=2.23.0->-r requirements.txt (line 9)) (2023.5.7)\n",
      "Requirement already satisfied: charset-normalizer<4,>=2 in c:\\users\\karth\\appdata\\local\\packages\\pythonsoftwarefoundation.python.3.10_qbz5n2kfra8p0\\localcache\\local-packages\\python310\\site-packages (from requests>=2.23.0->-r requirements.txt (line 9)) (3.1.0)\n",
      "Requirement already satisfied: idna<4,>=2.5 in c:\\users\\karth\\appdata\\local\\packages\\pythonsoftwarefoundation.python.3.10_qbz5n2kfra8p0\\localcache\\local-packages\\python310\\site-packages (from requests>=2.23.0->-r requirements.txt (line 9)) (3.4)\n",
      "Requirement already satisfied: sympy in c:\\users\\karth\\appdata\\local\\packages\\pythonsoftwarefoundation.python.3.10_qbz5n2kfra8p0\\localcache\\local-packages\\python310\\site-packages (from torch!=1.12.0,>=1.7.0->-r requirements.txt (line 11)) (1.12)\n",
      "Requirement already satisfied: networkx in c:\\users\\karth\\appdata\\local\\packages\\pythonsoftwarefoundation.python.3.10_qbz5n2kfra8p0\\localcache\\local-packages\\python310\\site-packages (from torch!=1.12.0,>=1.7.0->-r requirements.txt (line 11)) (3.1)\n",
      "Requirement already satisfied: filelock in c:\\users\\karth\\appdata\\local\\packages\\pythonsoftwarefoundation.python.3.10_qbz5n2kfra8p0\\localcache\\local-packages\\python310\\site-packages (from torch!=1.12.0,>=1.7.0->-r requirements.txt (line 11)) (3.12.0)\n",
      "Requirement already satisfied: jinja2 in c:\\users\\karth\\appdata\\local\\packages\\pythonsoftwarefoundation.python.3.10_qbz5n2kfra8p0\\localcache\\local-packages\\python310\\site-packages (from torch!=1.12.0,>=1.7.0->-r requirements.txt (line 11)) (3.1.2)\n",
      "Requirement already satisfied: typing-extensions in c:\\users\\karth\\appdata\\local\\packages\\pythonsoftwarefoundation.python.3.10_qbz5n2kfra8p0\\localcache\\local-packages\\python310\\site-packages (from torch!=1.12.0,>=1.7.0->-r requirements.txt (line 11)) (4.5.0)\n",
      "Requirement already satisfied: colorama in c:\\users\\karth\\appdata\\local\\packages\\pythonsoftwarefoundation.python.3.10_qbz5n2kfra8p0\\localcache\\local-packages\\python310\\site-packages (from tqdm>=4.41.0->-r requirements.txt (line 13)) (0.4.6)\n",
      "Requirement already satisfied: markdown>=2.6.8 in c:\\users\\karth\\appdata\\local\\packages\\pythonsoftwarefoundation.python.3.10_qbz5n2kfra8p0\\localcache\\local-packages\\python310\\site-packages (from tensorboard>=2.4.1->-r requirements.txt (line 17)) (3.4.3)\n",
      "Requirement already satisfied: werkzeug>=1.0.1 in c:\\users\\karth\\appdata\\local\\packages\\pythonsoftwarefoundation.python.3.10_qbz5n2kfra8p0\\localcache\\local-packages\\python310\\site-packages (from tensorboard>=2.4.1->-r requirements.txt (line 17)) (2.3.4)\n",
      "Requirement already satisfied: absl-py>=0.4 in c:\\users\\karth\\appdata\\local\\packages\\pythonsoftwarefoundation.python.3.10_qbz5n2kfra8p0\\localcache\\local-packages\\python310\\site-packages (from tensorboard>=2.4.1->-r requirements.txt (line 17)) (1.4.0)\n",
      "Requirement already satisfied: tensorboard-data-server<0.8.0,>=0.7.0 in c:\\users\\karth\\appdata\\local\\packages\\pythonsoftwarefoundation.python.3.10_qbz5n2kfra8p0\\localcache\\local-packages\\python310\\site-packages (from tensorboard>=2.4.1->-r requirements.txt (line 17)) (0.7.0)\n",
      "Requirement already satisfied: wheel>=0.26 in c:\\users\\karth\\appdata\\local\\packages\\pythonsoftwarefoundation.python.3.10_qbz5n2kfra8p0\\localcache\\local-packages\\python310\\site-packages (from tensorboard>=2.4.1->-r requirements.txt (line 17)) (0.40.0)\n",
      "Requirement already satisfied: google-auth-oauthlib<1.1,>=0.5 in c:\\users\\karth\\appdata\\local\\packages\\pythonsoftwarefoundation.python.3.10_qbz5n2kfra8p0\\localcache\\local-packages\\python310\\site-packages (from tensorboard>=2.4.1->-r requirements.txt (line 17)) (1.0.0)\n",
      "Requirement already satisfied: google-auth<3,>=1.6.3 in c:\\users\\karth\\appdata\\local\\packages\\pythonsoftwarefoundation.python.3.10_qbz5n2kfra8p0\\localcache\\local-packages\\python310\\site-packages (from tensorboard>=2.4.1->-r requirements.txt (line 17)) (2.19.0)\n",
      "Requirement already satisfied: grpcio>=1.48.2 in c:\\users\\karth\\appdata\\local\\packages\\pythonsoftwarefoundation.python.3.10_qbz5n2kfra8p0\\localcache\\local-packages\\python310\\site-packages (from tensorboard>=2.4.1->-r requirements.txt (line 17)) (1.54.2)\n",
      "Requirement already satisfied: setuptools>=41.0.0 in c:\\program files\\windowsapps\\pythonsoftwarefoundation.python.3.10_3.10.3056.0_x64__qbz5n2kfra8p0\\lib\\site-packages (from tensorboard>=2.4.1->-r requirements.txt (line 17)) (65.5.0)\n",
      "Requirement already satisfied: pytz>=2020.1 in c:\\users\\karth\\appdata\\local\\packages\\pythonsoftwarefoundation.python.3.10_qbz5n2kfra8p0\\localcache\\local-packages\\python310\\site-packages (from pandas>=1.1.4->-r requirements.txt (line 21)) (2022.5)\n",
      "Requirement already satisfied: prompt-toolkit<3.1.0,>3.0.1 in c:\\users\\karth\\appdata\\local\\packages\\pythonsoftwarefoundation.python.3.10_qbz5n2kfra8p0\\localcache\\local-packages\\python310\\site-packages (from ipython->-r requirements.txt (line 34)) (3.0.31)\n",
      "Requirement already satisfied: backcall in c:\\users\\karth\\appdata\\local\\packages\\pythonsoftwarefoundation.python.3.10_qbz5n2kfra8p0\\localcache\\local-packages\\python310\\site-packages (from ipython->-r requirements.txt (line 34)) (0.2.0)\n",
      "Requirement already satisfied: pickleshare in c:\\users\\karth\\appdata\\local\\packages\\pythonsoftwarefoundation.python.3.10_qbz5n2kfra8p0\\localcache\\local-packages\\python310\\site-packages (from ipython->-r requirements.txt (line 34)) (0.7.5)\n",
      "Requirement already satisfied: traitlets>=5 in c:\\users\\karth\\appdata\\local\\packages\\pythonsoftwarefoundation.python.3.10_qbz5n2kfra8p0\\localcache\\local-packages\\python310\\site-packages (from ipython->-r requirements.txt (line 34)) (5.5.0)\n",
      "Requirement already satisfied: pygments>=2.4.0 in c:\\users\\karth\\appdata\\local\\packages\\pythonsoftwarefoundation.python.3.10_qbz5n2kfra8p0\\localcache\\local-packages\\python310\\site-packages (from ipython->-r requirements.txt (line 34)) (2.13.0)\n",
      "Requirement already satisfied: jedi>=0.16 in c:\\users\\karth\\appdata\\local\\packages\\pythonsoftwarefoundation.python.3.10_qbz5n2kfra8p0\\localcache\\local-packages\\python310\\site-packages (from ipython->-r requirements.txt (line 34)) (0.18.1)\n",
      "Requirement already satisfied: stack-data in c:\\users\\karth\\appdata\\local\\packages\\pythonsoftwarefoundation.python.3.10_qbz5n2kfra8p0\\localcache\\local-packages\\python310\\site-packages (from ipython->-r requirements.txt (line 34)) (0.6.0)\n",
      "Requirement already satisfied: decorator in c:\\users\\karth\\appdata\\local\\packages\\pythonsoftwarefoundation.python.3.10_qbz5n2kfra8p0\\localcache\\local-packages\\python310\\site-packages (from ipython->-r requirements.txt (line 34)) (5.1.1)\n",
      "Requirement already satisfied: matplotlib-inline in c:\\users\\karth\\appdata\\local\\packages\\pythonsoftwarefoundation.python.3.10_qbz5n2kfra8p0\\localcache\\local-packages\\python310\\site-packages (from ipython->-r requirements.txt (line 34)) (0.1.6)\n",
      "Requirement already satisfied: PyWavelets>=1.1.1 in c:\\users\\karth\\appdata\\local\\packages\\pythonsoftwarefoundation.python.3.10_qbz5n2kfra8p0\\localcache\\local-packages\\python310\\site-packages (from scikit-image->-r requirements.txt (line 43)) (1.4.1)\n",
      "Requirement already satisfied: imageio>=2.27 in c:\\users\\karth\\appdata\\local\\packages\\pythonsoftwarefoundation.python.3.10_qbz5n2kfra8p0\\localcache\\local-packages\\python310\\site-packages (from scikit-image->-r requirements.txt (line 43)) (2.31.1)\n",
      "Requirement already satisfied: lazy_loader>=0.2 in c:\\users\\karth\\appdata\\local\\packages\\pythonsoftwarefoundation.python.3.10_qbz5n2kfra8p0\\localcache\\local-packages\\python310\\site-packages (from scikit-image->-r requirements.txt (line 43)) (0.2)\n",
      "Requirement already satisfied: tifffile>=2022.8.12 in c:\\users\\karth\\appdata\\local\\packages\\pythonsoftwarefoundation.python.3.10_qbz5n2kfra8p0\\localcache\\local-packages\\python310\\site-packages (from scikit-image->-r requirements.txt (line 43)) (2023.4.12)\n",
      "Requirement already satisfied: pyasn1-modules>=0.2.1 in c:\\users\\karth\\appdata\\local\\packages\\pythonsoftwarefoundation.python.3.10_qbz5n2kfra8p0\\localcache\\local-packages\\python310\\site-packages (from google-auth<3,>=1.6.3->tensorboard>=2.4.1->-r requirements.txt (line 17)) (0.3.0)\n",
      "Requirement already satisfied: cachetools<6.0,>=2.0.0 in c:\\users\\karth\\appdata\\local\\packages\\pythonsoftwarefoundation.python.3.10_qbz5n2kfra8p0\\localcache\\local-packages\\python310\\site-packages (from google-auth<3,>=1.6.3->tensorboard>=2.4.1->-r requirements.txt (line 17)) (5.3.1)\n",
      "Requirement already satisfied: rsa<5,>=3.1.4 in c:\\users\\karth\\appdata\\local\\packages\\pythonsoftwarefoundation.python.3.10_qbz5n2kfra8p0\\localcache\\local-packages\\python310\\site-packages (from google-auth<3,>=1.6.3->tensorboard>=2.4.1->-r requirements.txt (line 17)) (4.9)\n",
      "Requirement already satisfied: six>=1.9.0 in c:\\users\\karth\\appdata\\local\\packages\\pythonsoftwarefoundation.python.3.10_qbz5n2kfra8p0\\localcache\\local-packages\\python310\\site-packages (from google-auth<3,>=1.6.3->tensorboard>=2.4.1->-r requirements.txt (line 17)) (1.16.0)\n",
      "Requirement already satisfied: requests-oauthlib>=0.7.0 in c:\\users\\karth\\appdata\\local\\packages\\pythonsoftwarefoundation.python.3.10_qbz5n2kfra8p0\\localcache\\local-packages\\python310\\site-packages (from google-auth-oauthlib<1.1,>=0.5->tensorboard>=2.4.1->-r requirements.txt (line 17)) (1.3.1)\n",
      "Requirement already satisfied: parso<0.9.0,>=0.8.0 in c:\\users\\karth\\appdata\\local\\packages\\pythonsoftwarefoundation.python.3.10_qbz5n2kfra8p0\\localcache\\local-packages\\python310\\site-packages (from jedi>=0.16->ipython->-r requirements.txt (line 34)) (0.8.3)\n",
      "Requirement already satisfied: wcwidth in c:\\users\\karth\\appdata\\local\\packages\\pythonsoftwarefoundation.python.3.10_qbz5n2kfra8p0\\localcache\\local-packages\\python310\\site-packages (from prompt-toolkit<3.1.0,>3.0.1->ipython->-r requirements.txt (line 34)) (0.2.5)\n",
      "Requirement already satisfied: MarkupSafe>=2.1.1 in c:\\users\\karth\\appdata\\local\\packages\\pythonsoftwarefoundation.python.3.10_qbz5n2kfra8p0\\localcache\\local-packages\\python310\\site-packages (from werkzeug>=1.0.1->tensorboard>=2.4.1->-r requirements.txt (line 17)) (2.1.1)\n",
      "Requirement already satisfied: pure-eval in c:\\users\\karth\\appdata\\local\\packages\\pythonsoftwarefoundation.python.3.10_qbz5n2kfra8p0\\localcache\\local-packages\\python310\\site-packages (from stack-data->ipython->-r requirements.txt (line 34)) (0.2.2)\n",
      "Requirement already satisfied: asttokens>=2.1.0 in c:\\users\\karth\\appdata\\local\\packages\\pythonsoftwarefoundation.python.3.10_qbz5n2kfra8p0\\localcache\\local-packages\\python310\\site-packages (from stack-data->ipython->-r requirements.txt (line 34)) (2.1.0)\n",
      "Requirement already satisfied: executing>=1.2.0 in c:\\users\\karth\\appdata\\local\\packages\\pythonsoftwarefoundation.python.3.10_qbz5n2kfra8p0\\localcache\\local-packages\\python310\\site-packages (from stack-data->ipython->-r requirements.txt (line 34)) (1.2.0)\n",
      "Requirement already satisfied: mpmath>=0.19 in c:\\users\\karth\\appdata\\local\\packages\\pythonsoftwarefoundation.python.3.10_qbz5n2kfra8p0\\localcache\\local-packages\\python310\\site-packages (from sympy->torch!=1.12.0,>=1.7.0->-r requirements.txt (line 11)) (1.3.0)\n",
      "Requirement already satisfied: pyasn1<0.6.0,>=0.4.6 in c:\\users\\karth\\appdata\\local\\packages\\pythonsoftwarefoundation.python.3.10_qbz5n2kfra8p0\\localcache\\local-packages\\python310\\site-packages (from pyasn1-modules>=0.2.1->google-auth<3,>=1.6.3->tensorboard>=2.4.1->-r requirements.txt (line 17)) (0.5.0)\n",
      "Requirement already satisfied: oauthlib>=3.0.0 in c:\\users\\karth\\appdata\\local\\packages\\pythonsoftwarefoundation.python.3.10_qbz5n2kfra8p0\\localcache\\local-packages\\python310\\site-packages (from requests-oauthlib>=0.7.0->google-auth-oauthlib<1.1,>=0.5->tensorboard>=2.4.1->-r requirements.txt (line 17)) (3.2.2)\n"
     ]
    },
    {
     "name": "stderr",
     "output_type": "stream",
     "text": [
      "\n",
      "[notice] A new release of pip available: 22.3 -> 23.1.2\n",
      "[notice] To update, run: C:\\Users\\karth\\AppData\\Local\\Microsoft\\WindowsApps\\PythonSoftwareFoundation.Python.3.10_qbz5n2kfra8p0\\python.exe -m pip install --upgrade pip\n"
     ]
    }
   ],
   "source": [
    "!pip install -r requirements.txt"
   ]
  },
  {
   "cell_type": "code",
   "execution_count": 6,
   "metadata": {},
   "outputs": [
    {
     "name": "stdout",
     "output_type": "stream",
     "text": [
      "c:\\Users\\karth\\OneDrive\\Desktop\\MINIPROJECT\\yolov7\\weights\n"
     ]
    }
   ],
   "source": [
    "cd weights"
   ]
  },
  {
   "cell_type": "code",
   "execution_count": 4,
   "metadata": {},
   "outputs": [
    {
     "name": "stdout",
     "output_type": "stream",
     "text": [
      "pygame 2.4.0 (SDL 2.26.4, Python 3.10.11)\n",
      "Hello from the pygame community. https://www.pygame.org/contribute.html\n",
      "Namespace(weights=['weights/best.pt'], source='0', img_size=640, conf_thres=0.45, iou_thres=0.45, device='', view_img=False, save_txt=False, save_conf=False, nosave=False, classes=None, agnostic_nms=False, augment=False, update=False, project='runs/detect', name='exp', exist_ok=False, no_trace=False)\n",
      "Fusing layers... \n",
      "RepConv.fuse_repvgg_block\n",
      "RepConv.fuse_repvgg_block\n",
      "RepConv.fuse_repvgg_block\n",
      "IDetect.fuse\n",
      "1/1: 0...  success (640x480 at 30.00 FPS).\n",
      "\n",
      "0: Done. (1519.4ms) Inference, (0.0ms) NMS\n",
      "0: Done. (1600.5ms) Inference, (0.0ms) NMS\n",
      "0: 4 0s, Done. (1507.7ms) Inference, (0.6ms) NMS\n",
      "0: 3 0s, Done. (1607.7ms) Inference, (1.5ms) NMS\n",
      "0: 2 0s, Done. (1531.7ms) Inference, (2.0ms) NMS\n",
      "0: 3 0s, Done. (1555.9ms) Inference, (2.1ms) NMS\n",
      "0: 2 0s, Done. (1529.5ms) Inference, (2.0ms) NMS\n",
      "0: 2 0s, Done. (1550.3ms) Inference, (2.0ms) NMS\n",
      "0: 3 0s, Done. (1538.1ms) Inference, (2.0ms) NMS\n",
      "0: 3 0s, Done. (1580.7ms) Inference, (1.8ms) NMS\n",
      "0: 3 0s, Done. (1548.1ms) Inference, (1.0ms) NMS\n",
      "0: 6 0s, Done. (1512.7ms) Inference, (1.5ms) NMS\n",
      "0: 7 0s, Done. (1535.6ms) Inference, (1.0ms) NMS\n",
      "0: Done. (1543.2ms) Inference, (0.0ms) NMS\n",
      "0: 6 0s, Done. (1484.8ms) Inference, (1.0ms) NMS\n",
      "0: 6 0s, Done. (1539.9ms) Inference, (2.0ms) NMS\n",
      "0: 6 0s, Done. (1496.8ms) Inference, (1.0ms) NMS\n",
      "0: 5 0s, Done. (1517.2ms) Inference, (2.0ms) NMS\n",
      "0: Done. (1539.6ms) Inference, (0.0ms) NMS\n",
      "0: Done. (1553.9ms) Inference, (1.0ms) NMS\n",
      "0: Done. (1487.9ms) Inference, (1.0ms) NMS\n",
      "0: Done. (1541.6ms) Inference, (0.0ms) NMS\n",
      "0: Done. (1567.1ms) Inference, (1.0ms) NMS\n",
      "0: Done. (1525.6ms) Inference, (0.0ms) NMS\n",
      "0: Done. (1555.9ms) Inference, (1.0ms) NMS\n",
      "0: Done. (1500.4ms) Inference, (1.0ms) NMS\n",
      "Done. (40.817s)\n"
     ]
    },
    {
     "name": "stderr",
     "output_type": "stream",
     "text": [
      "YOLOR  a023760 torch 2.0.1+cpu CPU\n",
      "\n",
      "C:\\Users\\karth\\AppData\\Local\\Packages\\PythonSoftwareFoundation.Python.3.10_qbz5n2kfra8p0\\LocalCache\\local-packages\\Python310\\site-packages\\torch\\functional.py:504: UserWarning: torch.meshgrid: in an upcoming release, it will be required to pass the indexing argument. (Triggered internally at ..\\aten\\src\\ATen\\native\\TensorShape.cpp:3484.)\n",
      "  return _VF.meshgrid(tensors, **kwargs)  # type: ignore[attr-defined]\n",
      "Model Summary: 314 layers, 36481772 parameters, 6194944 gradients, 103.2 GFLOPS\n"
     ]
    }
   ],
   "source": [
    "# Run evaluation\n",
    "!python detectcamera.py --weights weights/best.pt --conf .45 --source 0"
   ]
  },
  {
   "cell_type": "code",
   "execution_count": 5,
   "metadata": {},
   "outputs": [
    {
     "name": "stdout",
     "output_type": "stream",
     "text": [
      "pygame 2.4.0 (SDL 2.26.4, Python 3.10.11)\n",
      "Hello from the pygame community. https://www.pygame.org/contribute.html\n",
      "Namespace(weights=['weights/best.pt'], source='0', img_size=640, conf_thres=0.45, iou_thres=0.45, device='', view_img=False, save_txt=False, save_conf=False, nosave=False, classes=None, agnostic_nms=False, augment=False, update=False, project='runs/detect', name='exp', exist_ok=False, no_trace=True, track=True, show_track=True, show_fps=True, thickness=2, seed=1, nobbox=False, nolabel=False, unique_track_color=False)\n",
      "Fusing layers... \n",
      "RepConv.fuse_repvgg_block\n",
      "RepConv.fuse_repvgg_block\n",
      "RepConv.fuse_repvgg_block\n",
      "IDetect.fuse\n",
      "1/1: 0...  success (640x480 at 30.00 FPS).\n",
      "\n",
      "0: Done. (1502.7ms) Inference, (0.0ms) NMS\n",
      "0: Done. (1574.5ms) Inference, (0.0ms) NMS\n",
      "0: 1 0, Done. (1513.6ms) Inference, (0.0ms) NMS\n",
      "0: Done. (1547.9ms) Inference, (0.0ms) NMS\n",
      "0: Done. (1538.7ms) Inference, (0.0ms) NMS\n",
      "0: Done. (1546.6ms) Inference, (0.0ms) NMS\n",
      "0: Done. (1524.1ms) Inference, (0.0ms) NMS\n",
      "0: Done. (1491.8ms) Inference, (1.0ms) NMS\n",
      "0: Done. (1564.6ms) Inference, (0.0ms) NMS\n",
      "0: Done. (1603.7ms) Inference, (1.0ms) NMS\n",
      "0: 1 0, Done. (1562.5ms) Inference, (1.0ms) NMS\n",
      "0: 1 0, Done. (1572.4ms) Inference, (2.0ms) NMS\n",
      "0: 1 0, Done. (1472.4ms) Inference, (2.0ms) NMS\n",
      "0: 1 0, Done. (1547.6ms) Inference, (2.0ms) NMS\n",
      "0: 1 0, Done. (1603.9ms) Inference, (2.5ms) NMS\n",
      "0: 1 0, Done. (1542.1ms) Inference, (1.0ms) NMS\n",
      "0: 1 0, Done. (1529.1ms) Inference, (1.5ms) NMS\n",
      "0: 1 0, Done. (1527.1ms) Inference, (1.0ms) NMS\n",
      "0: 1 0, Done. (1543.4ms) Inference, (2.5ms) NMS\n",
      "0: 1 0, Done. (1506.9ms) Inference, (1.5ms) NMS\n",
      "0: Done. (1522.8ms) Inference, (0.0ms) NMS\n",
      "0: Done. (1523.7ms) Inference, (0.0ms) NMS\n",
      "0: Done. (1547.6ms) Inference, (1.0ms) NMS\n",
      "0: Done. (1506.3ms) Inference, (0.0ms) NMS\n",
      "0: Done. (1516.3ms) Inference, (0.0ms) NMS\n",
      "0: Done. (1555.8ms) Inference, (0.0ms) NMS\n",
      "0: Done. (1532.0ms) Inference, (1.0ms) NMS\n",
      "Done. (42.433s)\n"
     ]
    },
    {
     "name": "stderr",
     "output_type": "stream",
     "text": [
      "YOLOR  a023760 torch 2.0.1+cpu CPU\n",
      "\n",
      "C:\\Users\\karth\\AppData\\Local\\Packages\\PythonSoftwareFoundation.Python.3.10_qbz5n2kfra8p0\\LocalCache\\local-packages\\Python310\\site-packages\\torch\\functional.py:504: UserWarning: torch.meshgrid: in an upcoming release, it will be required to pass the indexing argument. (Triggered internally at ..\\aten\\src\\ATen\\native\\TensorShape.cpp:3484.)\n",
      "  return _VF.meshgrid(tensors, **kwargs)  # type: ignore[attr-defined]\n",
      "Model Summary: 314 layers, 36481772 parameters, 6194944 gradients, 103.2 GFLOPS\n"
     ]
    }
   ],
   "source": [
    "!python detectcamera2.py --weights weights/best.pt --conf .45 --source 0 --no-trace --show-fps --track --show-track"
   ]
  },
  {
   "cell_type": "code",
   "execution_count": null,
   "metadata": {},
   "outputs": [
    {
     "name": "stdout",
     "output_type": "stream",
     "text": [
      "Collecting pygame\n",
      "  Downloading pygame-2.4.0-cp310-cp310-win_amd64.whl (10.6 MB)\n",
      "     --------------------------------------- 10.6/10.6 MB 11.1 MB/s eta 0:00:00\n",
      "Installing collected packages: pygame\n",
      "Successfully installed pygame-2.4.0\n"
     ]
    },
    {
     "name": "stderr",
     "output_type": "stream",
     "text": [
      "\n",
      "[notice] A new release of pip available: 22.3 -> 23.1.2\n",
      "[notice] To update, run: C:\\Users\\karth\\AppData\\Local\\Microsoft\\WindowsApps\\PythonSoftwareFoundation.Python.3.10_qbz5n2kfra8p0\\python.exe -m pip install --upgrade pip\n"
     ]
    }
   ],
   "source": []
  }
 ],
 "metadata": {
  "kernelspec": {
   "display_name": "Python 3",
   "language": "python",
   "name": "python3"
  },
  "language_info": {
   "codemirror_mode": {
    "name": "ipython",
    "version": 3
   },
   "file_extension": ".py",
   "mimetype": "text/x-python",
   "name": "python",
   "nbconvert_exporter": "python",
   "pygments_lexer": "ipython3",
   "version": "3.10.11"
  },
  "orig_nbformat": 4
 },
 "nbformat": 4,
 "nbformat_minor": 2
}
